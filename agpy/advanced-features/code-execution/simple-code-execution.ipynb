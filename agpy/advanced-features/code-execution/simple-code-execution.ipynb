{
 "cells": [
  {
   "cell_type": "markdown",
   "id": "3167862c",
   "metadata": {},
   "source": [
    "### Code Execution with Docker"
   ]
  },
  {
   "cell_type": "code",
   "execution_count": 1,
   "id": "9c6f1971",
   "metadata": {},
   "outputs": [],
   "source": [
    "from pathlib import Path\n",
    "\n",
    "from autogen_core import CancellationToken\n",
    "from autogen_core.code_executor import CodeBlock\n",
    "from autogen_ext.code_executors.docker import DockerCommandLineCodeExecutor"
   ]
  },
  {
   "cell_type": "code",
   "execution_count": 3,
   "id": "519c341a",
   "metadata": {},
   "outputs": [],
   "source": [
    "work_dir = Path(\".\").parent / \"workdir\"\n",
    "work_dir.mkdir(exist_ok=True)"
   ]
  },
  {
   "cell_type": "code",
   "execution_count": 6,
   "id": "7507fcc6",
   "metadata": {},
   "outputs": [
    {
     "name": "stdout",
     "output_type": "stream",
     "text": [
      "Execution Result: CommandLineCodeResult(exit_code=0, output=\"['bin', 'home', 'media', 'var', 'etc', 'dev', 'tmp', 'mnt', 'lib', 'srv', 'sbin', 'proc', 'root', 'boot', 'lib64', 'run', 'sys', 'usr', 'opt', 'workspace', '.dockerenv']\\n\", code_file='workdir\\\\tmp_code_f2635db3f51eb576ab6309b7b7cb92d94d5fb4fd9e433c1ff6d8124fdb8a3f57.python')\n"
     ]
    }
   ],
   "source": [
    "async with DockerCommandLineCodeExecutor(\n",
    "    work_dir=work_dir,\n",
    ") as executor:\n",
    "    code = CodeBlock(\n",
    "        code=\"\"\"\n",
    "import os\n",
    "def list_files(directory):\n",
    "    try:\n",
    "        files = os.listdir(directory)\n",
    "        return files\n",
    "    except Exception as e:\n",
    "        return str(e)\n",
    "files = list_files(\"/\") \n",
    "print(files)\n",
    "        \"\"\",\n",
    "        language=\"python\",)\n",
    "\n",
    "    result = await executor.execute_code_blocks(code_blocks=[code], cancellation_token=CancellationToken())\n",
    "\n",
    "    print(\"Execution Result:\", result)        "
   ]
  }
 ],
 "metadata": {
  "kernelspec": {
   "display_name": ".venv",
   "language": "python",
   "name": "python3"
  },
  "language_info": {
   "codemirror_mode": {
    "name": "ipython",
    "version": 3
   },
   "file_extension": ".py",
   "mimetype": "text/x-python",
   "name": "python",
   "nbconvert_exporter": "python",
   "pygments_lexer": "ipython3",
   "version": "3.13.3"
  }
 },
 "nbformat": 4,
 "nbformat_minor": 5
}
