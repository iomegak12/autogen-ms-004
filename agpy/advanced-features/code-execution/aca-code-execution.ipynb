{
 "cells": [
  {
   "cell_type": "markdown",
   "id": "e13677de",
   "metadata": {},
   "source": [
    "### Azure Container Apps - Code Execution"
   ]
  },
  {
   "cell_type": "code",
   "execution_count": 1,
   "id": "0f512752",
   "metadata": {},
   "outputs": [],
   "source": [
    "import os\n",
    "import tempfile\n",
    "\n",
    "from anyio import open_file\n",
    "\n",
    "from autogen_core import CancellationToken\n",
    "from autogen_core.code_executor import CodeBlock\n",
    "from autogen_ext.code_executors.azure import ACADynamicSessionsCodeExecutor\n",
    "from azure.identity import DefaultAzureCredential\n",
    "\n",
    "cancellation_token = CancellationToken()\n",
    "\n",
    "ENDPOINT = \"https://westus2.dynamicsessions.io/subscriptions/ca663af4-1306-4dfe-8a9d-19990935c081/resourceGroups/trainingrgv10/sessionPools/training-session-pool\""
   ]
  },
  {
   "cell_type": "code",
   "execution_count": 2,
   "id": "fcc0c4df",
   "metadata": {},
   "outputs": [
    {
     "name": "stdout",
     "output_type": "stream",
     "text": [
      "Hello, World!\n",
      "\n"
     ]
    }
   ],
   "source": [
    "with tempfile.TemporaryDirectory() as temp_dir:\n",
    "    executor = ACADynamicSessionsCodeExecutor(\n",
    "        pool_management_endpoint=ENDPOINT,\n",
    "        credential=DefaultAzureCredential(),\n",
    "        work_dir=temp_dir,\n",
    "    )\n",
    "    \n",
    "    code_blocks = [CodeBlock(code=\"import sys; print('Hello, World!')\", language=\"python\")]\n",
    "    code_result = await executor.execute_code_blocks(\n",
    "        code_blocks=code_blocks,\n",
    "        cancellation_token=cancellation_token,\n",
    "    )\n",
    "    \n",
    "    print(code_result.output)"
   ]
  }
 ],
 "metadata": {
  "kernelspec": {
   "display_name": ".venv",
   "language": "python",
   "name": "python3"
  },
  "language_info": {
   "codemirror_mode": {
    "name": "ipython",
    "version": 3
   },
   "file_extension": ".py",
   "mimetype": "text/x-python",
   "name": "python",
   "nbconvert_exporter": "python",
   "pygments_lexer": "ipython3",
   "version": "3.13.3"
  }
 },
 "nbformat": 4,
 "nbformat_minor": 5
}
