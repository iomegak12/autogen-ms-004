{
 "cells": [
  {
   "cell_type": "markdown",
   "id": "eea29cc9",
   "metadata": {},
   "source": [
    "### Monitoring and Observability"
   ]
  },
  {
   "cell_type": "code",
   "execution_count": 1,
   "id": "4bc3c9af",
   "metadata": {},
   "outputs": [],
   "source": [
    "from opentelemetry import trace\n",
    "from opentelemetry.exporter.otlp.proto.grpc.trace_exporter import OTLPSpanExporter\n",
    "from opentelemetry.sdk.resources import SERVICE_NAME, Resource\n",
    "from opentelemetry.sdk.trace import TracerProvider\n",
    "from opentelemetry.sdk.trace.export import BatchSpanProcessor\n",
    "\n",
    "otel_exporter = OTLPSpanExporter(endpoint=\"localhost:4317\", insecure=True)\n",
    "tracer_provider = TracerProvider(\n",
    "    resource=Resource.create({SERVICE_NAME: \"my-service\"})\n",
    ")\n",
    "span_processor = BatchSpanProcessor(otel_exporter)\n",
    "tracer_provider.add_span_processor(span_processor)\n",
    "trace.set_tracer_provider(tracer_provider)"
   ]
  },
  {
   "cell_type": "code",
   "execution_count": 2,
   "id": "1f3141c6",
   "metadata": {},
   "outputs": [],
   "source": [
    "from autogen_agentchat.agents import AssistantAgent, UserProxyAgent\n",
    "from autogen_agentchat.conditions import TextMentionTermination, MaxMessageTermination\n",
    "from autogen_agentchat.teams import SelectorGroupChat\n",
    "from autogen_agentchat.ui import Console\n",
    "from autogen_agentchat.messages import AgentEvent, ChatMessage, TextMessage\n",
    "from autogen_ext.models.openai import AzureOpenAIChatCompletionClient\n",
    "from autogen_agentchat.base import TaskResult\n",
    "from autogen_core import CancellationToken\n",
    "\n",
    "import os\n",
    "\n",
    "from dotenv import load_dotenv"
   ]
  },
  {
   "cell_type": "code",
   "execution_count": 3,
   "id": "0059b0f8",
   "metadata": {},
   "outputs": [],
   "source": [
    "load_dotenv(override=True)\n",
    "\n",
    "azure_openai_api_key = os.getenv(\"AZURE_OPENAI_API_KEY\")\n",
    "azure_openai_endpoint = os.getenv(\"AZURE_OPENAI_ENDPOINT\")\n",
    "azure_openai_deployment_name = os.getenv(\"AZURE_OPENAI_DEPLOYMENT_NAME\")\n",
    "azure_openai_api_version = os.getenv(\"AZURE_OPENAI_API_VERSION\")\n",
    "\n",
    "if not all([azure_openai_api_key, azure_openai_endpoint, azure_openai_deployment_name, azure_openai_api_version]):\n",
    "    raise ValueError(\"\"\"\n",
    "        Please set all required environment variables: \n",
    "            AZURE_OPENAI_API_KEY, \n",
    "            AZURE_OPENAI_ENDPOINT, \n",
    "            AZURE_OPENAI_DEPLOYMENT_NAME, \n",
    "            AZURE_OPENAI_API_VERSION\n",
    "        \"\"\")\n"
   ]
  },
  {
   "cell_type": "code",
   "execution_count": 4,
   "id": "78189289",
   "metadata": {},
   "outputs": [],
   "source": [
    "model_client = AzureOpenAIChatCompletionClient(\n",
    "    azure_deployment=azure_openai_deployment_name,\n",
    "    model=azure_openai_deployment_name,\n",
    "    api_key=azure_openai_api_key,\n",
    "    azure_endpoint=azure_openai_endpoint,\n",
    "    api_version=azure_openai_api_version,\n",
    ")"
   ]
  },
  {
   "cell_type": "code",
   "execution_count": 5,
   "id": "074ca1c7",
   "metadata": {},
   "outputs": [
    {
     "name": "stdout",
     "output_type": "stream",
     "text": [
      "Dolphins are known for their incredible intelligence and social behaviors! One fun fact is that dolphins have been observed using tools—specifically, some species use marine sponges to protect their snouts while foraging on the seafloor. This behavior not only showcases their problem-solving abilities but also indicates a cultural aspect, as young dolphins learn this technique from their mothers and other individuals in their pods!\n"
     ]
    }
   ],
   "source": [
    "assistant_agent = AssistantAgent(\n",
    "    name=\"Assistant\",\n",
    "    model_client=model_client,\n",
    "    system_message=\"You are a fun fact expert about animals. \",\n",
    ")\n",
    "\n",
    "tracer = trace.get_tracer(\"my-service\")\n",
    "\n",
    "with tracer.start_as_current_span(\"runtime\"):\n",
    "    response = await assistant_agent.on_messages(\n",
    "        [\n",
    "            TextMessage(\n",
    "                content=\"Tell me a fun fact about Dolphins.\",\n",
    "                source=\"user\",\n",
    "            )\n",
    "        ],\n",
    "        cancellation_token=CancellationToken(),\n",
    "    )\n",
    "\n",
    "    print(response.chat_message.content)"
   ]
  }
 ],
 "metadata": {
  "kernelspec": {
   "display_name": ".venv",
   "language": "python",
   "name": "python3"
  },
  "language_info": {
   "codemirror_mode": {
    "name": "ipython",
    "version": 3
   },
   "file_extension": ".py",
   "mimetype": "text/x-python",
   "name": "python",
   "nbconvert_exporter": "python",
   "pygments_lexer": "ipython3",
   "version": "3.13.3"
  }
 },
 "nbformat": 4,
 "nbformat_minor": 5
}
