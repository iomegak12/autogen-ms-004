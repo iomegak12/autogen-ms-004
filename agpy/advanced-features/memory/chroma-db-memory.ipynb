{
 "cells": [
  {
   "cell_type": "markdown",
   "id": "bb7f9c9d",
   "metadata": {},
   "source": [
    "### Understanding InMemory in AutoGen Agents / Teams"
   ]
  },
  {
   "cell_type": "code",
   "execution_count": null,
   "id": "dba41256",
   "metadata": {},
   "outputs": [],
   "source": [
    "from autogen_agentchat.agents import AssistantAgent\n",
    "from autogen_agentchat.conditions import MaxMessageTermination\n",
    "from autogen_agentchat.ui import Console\n",
    "from autogen_agentchat.messages import AgentEvent, ChatMessage, TextMessage\n",
    "from autogen_ext.models.openai import AzureOpenAIChatCompletionClient\n",
    "from autogen_core import CancellationToken\n",
    "from autogen_core.memory import ListMemory, MemoryContent, MemoryMimeType\n",
    "from autogen_ext.memory.chromadb import ChromaDBVectorMemory, PersistentChromaDBVectorMemoryConfig\n",
    "import os\n",
    "\n",
    "from dotenv import load_dotenv"
   ]
  },
  {
   "cell_type": "code",
   "execution_count": null,
   "id": "67903f4c",
   "metadata": {},
   "outputs": [],
   "source": [
    "load_dotenv(override=True)\n",
    "\n",
    "azure_openai_api_key = os.getenv(\"AZURE_OPENAI_API_KEY\")\n",
    "azure_openai_endpoint = os.getenv(\"AZURE_OPENAI_ENDPOINT\")\n",
    "azure_openai_deployment_name = os.getenv(\"AZURE_OPENAI_DEPLOYMENT_NAME\")\n",
    "azure_openai_api_version = os.getenv(\"AZURE_OPENAI_API_VERSION\")\n",
    "\n",
    "if not all([azure_openai_api_key, azure_openai_endpoint, azure_openai_deployment_name, azure_openai_api_version]):\n",
    "    raise ValueError(\"\"\"\n",
    "        Please set all required environment variables: \n",
    "            AZURE_OPENAI_API_KEY, \n",
    "            AZURE_OPENAI_ENDPOINT, \n",
    "            AZURE_OPENAI_DEPLOYMENT_NAME, \n",
    "            AZURE_OPENAI_API_VERSION\n",
    "        \"\"\")\n"
   ]
  },
  {
   "cell_type": "code",
   "execution_count": null,
   "id": "102aadb2",
   "metadata": {},
   "outputs": [],
   "source": [
    "model_client = AzureOpenAIChatCompletionClient(\n",
    "    azure_deployment=azure_openai_deployment_name,\n",
    "    model=azure_openai_deployment_name,\n",
    "    api_key=azure_openai_api_key,\n",
    "    azure_endpoint=azure_openai_endpoint,\n",
    "    api_version=azure_openai_api_version,\n",
    ")"
   ]
  },
  {
   "cell_type": "code",
   "execution_count": null,
   "id": "6ab8c7c4",
   "metadata": {},
   "outputs": [],
   "source": [
    "chroma_user_memory = ChromaDBVectorMemory(\n",
    "    config=PersistentChromaDBVectorMemoryConfig(\n",
    "        collection_name=\"preferences\",\n",
    "        persistent_path=\"./chroma_db\",\n",
    "        k=5,\n",
    "        score_threshold=0.1,\n",
    "    )\n",
    ")\n",
    "\n",
    "await chroma_user_memory.clear()"
   ]
  },
  {
   "cell_type": "code",
   "execution_count": null,
   "id": "f0de4883",
   "metadata": {},
   "outputs": [],
   "source": [
    "await chroma_user_memory.add(\n",
    "    MemoryContent(\n",
    "        mime_type=MemoryMimeType.TEXT,\n",
    "        content=\"The weather should be in metric units, such as Celsius for temperature and kilometers per hour for wind speed.\",\n",
    "    )\n",
    ")\n",
    "\n",
    "await chroma_user_memory.add(\n",
    "    MemoryContent(\n",
    "        mime_type=MemoryMimeType.TEXT,\n",
    "        content=\"Meal Recipe must be vegan, and the ingredients should be listed in grams.\",\n",
    "    )\n",
    ")\n",
    "\n",
    "await chroma_user_memory.add(\n",
    "    MemoryContent(\n",
    "        mime_type=MemoryMimeType.TEXT,\n",
    "        content=\"I live in London, UK, and I prefer to receive information in British English.\",\n",
    "    )\n",
    ")"
   ]
  },
  {
   "cell_type": "code",
   "execution_count": null,
   "id": "e79efff1",
   "metadata": {},
   "outputs": [],
   "source": [
    "preferences = await chroma_user_memory.query(\n",
    "    MemoryContent(\n",
    "        mime_type=MemoryMimeType.TEXT,\n",
    "        content=\"What are my preferences?\",\n",
    "    )\n",
    ")\n",
    "\n",
    "print(preferences)"
   ]
  },
  {
   "cell_type": "code",
   "execution_count": null,
   "id": "78022a69",
   "metadata": {},
   "outputs": [],
   "source": [
    "chroma_user_memory.dump_component().model_dump_json()"
   ]
  },
  {
   "cell_type": "code",
   "execution_count": null,
   "id": "27f7b231",
   "metadata": {},
   "outputs": [],
   "source": [
    "async def get_weather_info(location: str, units: str = \"imperial\") -> str:\n",
    "    if units == \"metric\":\n",
    "        return f\"The weather in {location} is 20°C with a wind speed of 15 km/h.\"\n",
    "    elif units == \"imperial\":\n",
    "        return f\"The weather in {location} is 68°F with a wind speed of 9 mph.\"\n",
    "    else:\n",
    "        return f\"Sorry, I don't have weather information for {location} in {units} units.\"\n",
    "\n",
    "assistant_agent = AssistantAgent(\n",
    "    name=\"WeatherAndMealRecipeAssistant\",\n",
    "    model_client=model_client,\n",
    "    memory=[chroma_user_memory],\n",
    "    tools=[get_weather_info],\n",
    ")"
   ]
  },
  {
   "cell_type": "code",
   "execution_count": null,
   "id": "c0b0c974",
   "metadata": {},
   "outputs": [],
   "source": [
    "stream = assistant_agent.run_stream(\n",
    "    task = \"What is weather in my location London?\"\n",
    ")\n",
    "\n",
    "await Console(stream)"
   ]
  },
  {
   "cell_type": "code",
   "execution_count": null,
   "id": "e9b908a5",
   "metadata": {},
   "outputs": [],
   "source": [
    "stream = assistant_agent.run_stream(\n",
    "    task = \"What is weather in New York?\"\n",
    ")\n",
    "\n",
    "await Console(stream)"
   ]
  },
  {
   "cell_type": "code",
   "execution_count": null,
   "id": "014a0985",
   "metadata": {},
   "outputs": [],
   "source": [
    "stream = assistant_agent.run_stream(\n",
    "    task = \"Can you suggest me a recipe with Broth?\"\n",
    ")\n",
    "\n",
    "await Console(stream)"
   ]
  }
 ],
 "metadata": {
  "kernelspec": {
   "display_name": ".venv",
   "language": "python",
   "name": "python3"
  },
  "language_info": {
   "codemirror_mode": {
    "name": "ipython",
    "version": 3
   },
   "file_extension": ".py",
   "mimetype": "text/x-python",
   "name": "python",
   "nbconvert_exporter": "python",
   "pygments_lexer": "ipython3",
   "version": "3.13.3"
  }
 },
 "nbformat": 4,
 "nbformat_minor": 5
}
