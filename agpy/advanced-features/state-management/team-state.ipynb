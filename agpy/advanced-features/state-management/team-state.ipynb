{
 "cells": [
  {
   "cell_type": "markdown",
   "id": "7456e575",
   "metadata": {},
   "source": [
    "### AutoGen Team State Management "
   ]
  },
  {
   "cell_type": "code",
   "execution_count": null,
   "id": "cf72794a",
   "metadata": {},
   "outputs": [],
   "source": [
    "from autogen_agentchat.agents import AssistantAgent, UserProxyAgent\n",
    "from autogen_agentchat.conditions import TextMentionTermination, MaxMessageTermination\n",
    "from autogen_agentchat.teams import RoundRobinGroupChat\n",
    "from autogen_agentchat.ui import Console\n",
    "from autogen_agentchat.messages import AgentEvent, ChatMessage, TextMessage\n",
    "from autogen_ext.models.openai import AzureOpenAIChatCompletionClient\n",
    "from autogen_agentchat.base import TaskResult\n",
    "from autogen_core import CancellationToken\n",
    "\n",
    "import os\n",
    "\n",
    "from dotenv import load_dotenv"
   ]
  },
  {
   "cell_type": "code",
   "execution_count": null,
   "id": "02b7b438",
   "metadata": {},
   "outputs": [],
   "source": [
    "load_dotenv(override=True)\n",
    "\n",
    "azure_openai_api_key = os.getenv(\"AZURE_OPENAI_API_KEY\")\n",
    "azure_openai_endpoint = os.getenv(\"AZURE_OPENAI_ENDPOINT\")\n",
    "azure_openai_deployment_name = os.getenv(\"AZURE_OPENAI_DEPLOYMENT_NAME\")\n",
    "azure_openai_api_version = os.getenv(\"AZURE_OPENAI_API_VERSION\")\n",
    "\n",
    "if not all([azure_openai_api_key, azure_openai_endpoint, azure_openai_deployment_name, azure_openai_api_version]):\n",
    "    raise ValueError(\"\"\"\n",
    "        Please set all required environment variables: \n",
    "            AZURE_OPENAI_API_KEY, \n",
    "            AZURE_OPENAI_ENDPOINT, \n",
    "            AZURE_OPENAI_DEPLOYMENT_NAME, \n",
    "            AZURE_OPENAI_API_VERSION\n",
    "        \"\"\")\n"
   ]
  },
  {
   "cell_type": "code",
   "execution_count": null,
   "id": "bfd2760a",
   "metadata": {},
   "outputs": [],
   "source": [
    "model_client = AzureOpenAIChatCompletionClient(\n",
    "    azure_deployment=azure_openai_deployment_name,\n",
    "    model=azure_openai_deployment_name,\n",
    "    api_key=azure_openai_api_key,\n",
    "    azure_endpoint=azure_openai_endpoint,\n",
    "    api_version=azure_openai_api_version,\n",
    ")"
   ]
  },
  {
   "cell_type": "code",
   "execution_count": null,
   "id": "fab3c025",
   "metadata": {},
   "outputs": [],
   "source": [
    "assistant_agent = AssistantAgent(\n",
    "    name=\"Assistant\",\n",
    "    model_client=model_client,\n",
    "    system_message=\"You are a fun fact expert about animals. \",\n",
    ")\n",
    "\n",
    "team = RoundRobinGroupChat(\n",
    "    [assistant_agent],\n",
    "    termination_condition=MaxMessageTermination(2),\n",
    ")\n",
    "\n",
    "stream = team.run_stream(task = \"Tell me a surprising fun fact about Octopuses.\")\n",
    "\n",
    "await Console(stream)"
   ]
  },
  {
   "cell_type": "code",
   "execution_count": null,
   "id": "9eb04020",
   "metadata": {},
   "outputs": [],
   "source": [
    "team_state = await team.save_state()\n",
    "print(\"Team state saved successfully.\")"
   ]
  },
  {
   "cell_type": "code",
   "execution_count": null,
   "id": "45cc2aed",
   "metadata": {},
   "outputs": [],
   "source": [
    "print(\"Team state:\", team_state)"
   ]
  },
  {
   "cell_type": "code",
   "execution_count": null,
   "id": "fc7e9f71",
   "metadata": {},
   "outputs": [],
   "source": [
    "await team.reset()\n",
    "\n",
    "stream = team.run_stream(task = \"What was the last animal fact you shared?\")\n",
    "\n",
    "await Console(stream)"
   ]
  },
  {
   "cell_type": "code",
   "execution_count": null,
   "id": "516a7359",
   "metadata": {},
   "outputs": [],
   "source": [
    "await team.load_state(team_state)\n",
    "\n",
    "print(\"Team state loaded successfully.\")\n",
    "\n",
    "stream = team.run_stream(task = \"What was the last animal fact you shared?\")\n",
    "\n",
    "await Console(stream)"
   ]
  },
  {
   "cell_type": "code",
   "execution_count": null,
   "id": "225853c0",
   "metadata": {},
   "outputs": [],
   "source": [
    "import json\n",
    "\n",
    "with open(\"team_state.json\", \"w\") as f:\n",
    "    json.dump(team_state, f, indent=4, sort_keys=True, ensure_ascii=False, default=str)\n",
    "    \n",
    "print(\"Team state saved to team_state.json successfully.\")"
   ]
  },
  {
   "cell_type": "code",
   "execution_count": null,
   "id": "8c689173",
   "metadata": {},
   "outputs": [],
   "source": [
    "with open(\"team_state.json\", \"r\") as f:\n",
    "    loaded_state = json.load(f)\n",
    "    \n",
    "new_agent_team = RoundRobinGroupChat(\n",
    "    [assistant_agent],\n",
    "    termination_condition=MaxMessageTermination(2),\n",
    ")\n",
    "\n",
    "await new_agent_team.load_state(loaded_state)\n",
    "\n",
    "stream = team.run_stream(task = \"What was the last animal fact you shared?\")\n",
    "\n",
    "await Console(stream)"
   ]
  }
 ],
 "metadata": {
  "kernelspec": {
   "display_name": ".venv",
   "language": "python",
   "name": "python3"
  },
  "language_info": {
   "codemirror_mode": {
    "name": "ipython",
    "version": 3
   },
   "file_extension": ".py",
   "mimetype": "text/x-python",
   "name": "python",
   "nbconvert_exporter": "python",
   "pygments_lexer": "ipython3",
   "version": "3.13.3"
  }
 },
 "nbformat": 4,
 "nbformat_minor": 5
}
