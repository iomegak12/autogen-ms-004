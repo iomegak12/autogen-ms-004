{
 "cells": [
  {
   "cell_type": "markdown",
   "id": "7456e575",
   "metadata": {},
   "source": [
    "### AutoGen Agents State Management "
   ]
  },
  {
   "cell_type": "code",
   "execution_count": null,
   "id": "cf72794a",
   "metadata": {},
   "outputs": [],
   "source": [
    "from autogen_agentchat.agents import AssistantAgent, UserProxyAgent\n",
    "from autogen_agentchat.conditions import TextMentionTermination, MaxMessageTermination\n",
    "from autogen_agentchat.teams import SelectorGroupChat\n",
    "from autogen_agentchat.ui import Console\n",
    "from autogen_agentchat.messages import AgentEvent, ChatMessage, TextMessage\n",
    "from autogen_ext.models.openai import AzureOpenAIChatCompletionClient\n",
    "from autogen_agentchat.base import TaskResult\n",
    "from autogen_core import CancellationToken\n",
    "\n",
    "import os\n",
    "\n",
    "from dotenv import load_dotenv"
   ]
  },
  {
   "cell_type": "code",
   "execution_count": null,
   "id": "02b7b438",
   "metadata": {},
   "outputs": [],
   "source": [
    "load_dotenv(override=True)\n",
    "\n",
    "azure_openai_api_key = os.getenv(\"AZURE_OPENAI_API_KEY\")\n",
    "azure_openai_endpoint = os.getenv(\"AZURE_OPENAI_ENDPOINT\")\n",
    "azure_openai_deployment_name = os.getenv(\"AZURE_OPENAI_DEPLOYMENT_NAME\")\n",
    "azure_openai_api_version = os.getenv(\"AZURE_OPENAI_API_VERSION\")\n",
    "\n",
    "if not all([azure_openai_api_key, azure_openai_endpoint, azure_openai_deployment_name, azure_openai_api_version]):\n",
    "    raise ValueError(\"\"\"\n",
    "        Please set all required environment variables: \n",
    "            AZURE_OPENAI_API_KEY, \n",
    "            AZURE_OPENAI_ENDPOINT, \n",
    "            AZURE_OPENAI_DEPLOYMENT_NAME, \n",
    "            AZURE_OPENAI_API_VERSION\n",
    "        \"\"\")\n"
   ]
  },
  {
   "cell_type": "code",
   "execution_count": null,
   "id": "bfd2760a",
   "metadata": {},
   "outputs": [],
   "source": [
    "model_client = AzureOpenAIChatCompletionClient(\n",
    "    azure_deployment=azure_openai_deployment_name,\n",
    "    model=azure_openai_deployment_name,\n",
    "    api_key=azure_openai_api_key,\n",
    "    azure_endpoint=azure_openai_endpoint,\n",
    "    api_version=azure_openai_api_version,\n",
    ")"
   ]
  },
  {
   "cell_type": "code",
   "execution_count": null,
   "id": "fab3c025",
   "metadata": {},
   "outputs": [],
   "source": [
    "assistant_agent = AssistantAgent(\n",
    "    name=\"Assistant\",\n",
    "    model_client=model_client,\n",
    "    system_message=\"You are a fun fact expert about animals. \",\n",
    ")\n",
    "\n",
    "response = await assistant_agent.on_messages(\n",
    "    [\n",
    "        TextMessage(\n",
    "            content=\"Tell me a fun fact about Dolphins.\",\n",
    "            source=\"user\",\n",
    "        )\n",
    "    ],\n",
    "    cancellation_token=CancellationToken(),\n",
    ")\n",
    "\n",
    "print(response.chat_message.content)"
   ]
  },
  {
   "cell_type": "code",
   "execution_count": null,
   "id": "edfba22c",
   "metadata": {},
   "outputs": [],
   "source": [
    "agent_state = await assistant_agent.save_state()\n",
    "\n",
    "print(\"Agent state saved.\")\n",
    "print(agent_state)"
   ]
  },
  {
   "cell_type": "code",
   "execution_count": null,
   "id": "e0035a5d",
   "metadata": {},
   "outputs": [],
   "source": [
    "new_assistant_agent = AssistantAgent(\n",
    "    name=\"Assistant\",\n",
    "    model_client=model_client,\n",
    "    system_message=\"You are a fun fact expert about animals. \",\n",
    ")\n",
    "\n",
    "await new_assistant_agent.load_state(agent_state)\n",
    "\n",
    "response = await new_assistant_agent.on_messages(\n",
    "    [\n",
    "        TextMessage(\n",
    "            content=\"What was the fun fact you told me about Dolphins?\",\n",
    "            source=\"user\",\n",
    "        )\n",
    "    ],\n",
    "    cancellation_token=CancellationToken(),\n",
    ")\n",
    "\n",
    "print(response.chat_message.content)"
   ]
  }
 ],
 "metadata": {
  "kernelspec": {
   "display_name": ".venv",
   "language": "python",
   "name": "python3"
  },
  "language_info": {
   "codemirror_mode": {
    "name": "ipython",
    "version": 3
   },
   "file_extension": ".py",
   "mimetype": "text/x-python",
   "name": "python",
   "nbconvert_exporter": "python",
   "pygments_lexer": "ipython3",
   "version": "3.13.3"
  }
 },
 "nbformat": 4,
 "nbformat_minor": 5
}
