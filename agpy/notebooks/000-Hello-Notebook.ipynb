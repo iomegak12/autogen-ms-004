{
 "cells": [
  {
   "cell_type": "markdown",
   "id": "d521909c",
   "metadata": {},
   "source": [
    "### Learning Python - Jupyter Notebook"
   ]
  },
  {
   "cell_type": "code",
   "execution_count": 1,
   "id": "06870f87",
   "metadata": {},
   "outputs": [
    {
     "name": "stdout",
     "output_type": "stream",
     "text": [
      "Collecting art\n",
      "  Downloading art-6.5-py3-none-any.whl.metadata (72 kB)\n",
      "Downloading art-6.5-py3-none-any.whl (610 kB)\n",
      "   ---------------------------------------- 0.0/610.4 kB ? eta -:--:--\n",
      "   ---------------------------------------- 610.4/610.4 kB 7.9 MB/s eta 0:00:00\n",
      "Installing collected packages: art\n",
      "Successfully installed art-6.5\n",
      "Note: you may need to restart the kernel to use updated packages.\n"
     ]
    },
    {
     "name": "stderr",
     "output_type": "stream",
     "text": [
      "\n",
      "[notice] A new release of pip is available: 25.0.1 -> 25.1.1\n",
      "[notice] To update, run: python.exe -m pip install --upgrade pip\n"
     ]
    }
   ],
   "source": [
    "%pip install art"
   ]
  },
  {
   "cell_type": "code",
   "execution_count": 2,
   "id": "b983acc0",
   "metadata": {},
   "outputs": [],
   "source": [
    "from art import tprint"
   ]
  },
  {
   "cell_type": "code",
   "execution_count": 5,
   "id": "eda530b2",
   "metadata": {},
   "outputs": [
    {
     "name": "stdout",
     "output_type": "stream",
     "text": [
      "__        __       _                               \n",
      "\\ \\      / /  ___ | |  ___   ___   _ __ ___    ___ \n",
      " \\ \\ /\\ / /  / _ \\| | / __| / _ \\ | '_ ` _ \\  / _ \\\n",
      "  \\ V  V /  |  __/| || (__ | (_) || | | | | ||  __/\n",
      "   \\_/\\_/    \\___||_| \\___| \\___/ |_| |_| |_| \\___|\n",
      "                                                   \n",
      "\n"
     ]
    }
   ],
   "source": [
    "tprint(\"Welcome\")"
   ]
  }
 ],
 "metadata": {
  "kernelspec": {
   "display_name": ".venv",
   "language": "python",
   "name": "python3"
  },
  "language_info": {
   "codemirror_mode": {
    "name": "ipython",
    "version": 3
   },
   "file_extension": ".py",
   "mimetype": "text/x-python",
   "name": "python",
   "nbconvert_exporter": "python",
   "pygments_lexer": "ipython3",
   "version": "3.13.3"
  }
 },
 "nbformat": 4,
 "nbformat_minor": 5
}
