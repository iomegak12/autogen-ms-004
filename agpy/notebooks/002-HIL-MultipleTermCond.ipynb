{
 "cells": [
  {
   "cell_type": "markdown",
   "id": "593c9f11",
   "metadata": {},
   "source": [
    "### Understanding Human-in-the-Loop and Multiple Termination Conditions"
   ]
  },
  {
   "cell_type": "code",
   "execution_count": 1,
   "id": "830606e4",
   "metadata": {},
   "outputs": [],
   "source": [
    "from autogen_agentchat.agents import AssistantAgent, UserProxyAgent\n",
    "from autogen_agentchat.conditions import TextMentionTermination, MaxMessageTermination\n",
    "from autogen_agentchat.teams import RoundRobinGroupChat\n",
    "from autogen_agentchat.ui import Console\n",
    "from autogen_ext.models.openai import AzureOpenAIChatCompletionClient\n",
    "from autogen_agentchat.base import TaskResult\n",
    "\n",
    "import os\n",
    "\n",
    "from dotenv import load_dotenv"
   ]
  },
  {
   "cell_type": "code",
   "execution_count": 2,
   "id": "0b2cfa4e",
   "metadata": {},
   "outputs": [],
   "source": [
    "load_dotenv(override=True)\n",
    "\n",
    "azure_openai_api_key = os.getenv(\"AZURE_OPENAI_API_KEY\")\n",
    "azure_openai_endpoint = os.getenv(\"AZURE_OPENAI_ENDPOINT\")\n",
    "azure_openai_deployment_name = os.getenv(\"AZURE_OPENAI_DEPLOYMENT_NAME\")\n",
    "azure_openai_api_version = os.getenv(\"AZURE_OPENAI_API_VERSION\")\n",
    "\n",
    "if not all([azure_openai_api_key, azure_openai_endpoint, azure_openai_deployment_name, azure_openai_api_version]):\n",
    "    raise ValueError(\"\"\"\n",
    "        Please set all required environment variables: \n",
    "            AZURE_OPENAI_API_KEY, \n",
    "            AZURE_OPENAI_ENDPOINT, \n",
    "            AZURE_OPENAI_DEPLOYMENT_NAME, \n",
    "            AZURE_OPENAI_API_VERSION\n",
    "        \"\"\")"
   ]
  },
  {
   "cell_type": "code",
   "execution_count": 3,
   "id": "ab6e9e66",
   "metadata": {},
   "outputs": [],
   "source": [
    "model_client = AzureOpenAIChatCompletionClient(\n",
    "    azure_deployment=azure_openai_deployment_name,\n",
    "    model=azure_openai_deployment_name,\n",
    "    api_key=azure_openai_api_key,\n",
    "    azure_endpoint=azure_openai_endpoint,\n",
    "    api_version=azure_openai_api_version,\n",
    ")"
   ]
  },
  {
   "cell_type": "code",
   "execution_count": 6,
   "id": "45f2bbd5",
   "metadata": {},
   "outputs": [],
   "source": [
    "assistant = AssistantAgent(\n",
    "    name=\"AssistantAgent\",\n",
    "    model_client=model_client,\n",
    "    system_message=\"You are a helpful assistant.\",\n",
    ")\n",
    "\n",
    "user_proxy_agent = UserProxyAgent(\n",
    "    name=\"UserAgent\",\n",
    "    input_func=input,\n",
    ")\n",
    "\n",
    "text_termination = TextMentionTermination(\"APPROVE\")\n",
    "max_message_termination = MaxMessageTermination(5)\n",
    "combined_termination = text_termination | max_message_termination\n",
    "\n",
    "team = RoundRobinGroupChat(\n",
    "    [assistant, user_proxy_agent],\n",
    "    termination_condition=combined_termination,\n",
    ")"
   ]
  },
  {
   "cell_type": "code",
   "execution_count": 8,
   "id": "7d970483",
   "metadata": {},
   "outputs": [
    {
     "name": "stdout",
     "output_type": "stream",
     "text": [
      "---------- TextMessage (user) ----------\n",
      "Suggest Three Creative Ideas for a Mobile App!\n",
      "---------- TextMessage (AssistantAgent) ----------\n",
      "Sure! Here are three creative ideas for mobile apps:\n",
      "\n",
      "1. **Mindful Moments: Daily Mini Meditations**\n",
      "   - **Overview:** An app that offers users short, guided meditation sessions tailored for different times of the day. Each session is under five minutes, perfect for busy schedules, and incorporates elements of mindfulness, breathing exercises, and positive affirmations.\n",
      "   - **Features:**\n",
      "     - Personalization: Users can select their mood, time availability, or specific goals (like stress relief, focus enhancement, etc.) to get customized meditation clips.\n",
      "     - Daily Reminders: Notifications to encourage users to take a \"Mindful Moment\" during their day.\n",
      "     - Integrations: Sync with calendars to suggest meditation times based on user schedules.\n",
      "     - Community Sharing: Users can share their experiences and favorite meditations with a community of like-minded individuals.\n",
      "\n",
      "2. **PlantPal: Your Personal Plant Care Assistant**\n",
      "   - **Overview:** An app designed for plant parents to help them care for their houseplants. By simply taking a photo of their plants, users can receive personalized care instructions, including watering schedules, light requirements, and fertilization tips.\n",
      "   - **Features:**\n",
      "     - Plant Identification: Use image recognition to identify various types of plants and provide tailored care tips.\n",
      "     - Care Reminders: Set reminders for watering, fertilizing, and repotting based on the plant’s needs.\n",
      "     - Growth Tracking: Users can log their plant’s growth with photos and updates to track progress over time.\n",
      "     - Community Forum: A space for plant enthusiasts to ask questions, share tips, and showcase their plants.\n",
      "\n",
      "3. **Culinary Quest: Family Cooking Adventure**\n",
      "   - **Overview:** An interactive cooking app aimed at families that turns cooking together into a fun adventure game. Each recipe is a quest where users complete tasks to unlock new dishes and earn points or rewards.\n",
      "   - **Features:**\n",
      "     - Quest System: Each recipe has a storyline and tasks (e.g., prep, cook, clean) that families need to complete together.\n",
      "     - Cooking Levels: Users can level up and unlock more challenging recipes as they gain experience points.\n",
      "     - Family Challenges: Engage in cooking challenges with other families, compete for the best dish, or share unique culinary creations.\n",
      "     - DIY Recipe Creation: Users can create their own recipes and share them with the community, complete with a quest-like interface.\n",
      "\n",
      "These app ideas blend practicality with creativity, encouraging user engagement and community-building around their respective themes!\n",
      "---------- TextMessage (UserAgent) ----------\n",
      "in the same way, can you suggest me for three creative ideas for VR app\n",
      "---------- TextMessage (AssistantAgent) ----------\n",
      "Absolutely! Here are three creative ideas for virtual reality (VR) apps:\n",
      "\n",
      "1. **Virtual Nature Escape: Immersive Outdoor Retreat**\n",
      "   - **Overview:** An app that allows users to experience stunning natural environments from the comfort of their home. Users can take virtual hikes, visit serene beaches, or explore majestic mountains, all while enjoying immersive sights and sounds of nature.\n",
      "   - **Features:**\n",
      "     - Multiple Locations: A library of diverse environments, such as rainforests, deserts, and snowy landscapes, each with realistic weather and time-of-day effects.\n",
      "     - Guided Meditation: Integrated mindfulness sessions set in various nature scenes to promote relaxation and stress relief.\n",
      "     - Interactive Wildlife: Users can encounter and learn about virtual wildlife, enhancing their experience through educational content.\n",
      "     - Personal Journal: A space for users to document their experiences, thoughts, and feelings after each session, encouraging mindfulness and reflection.\n",
      "\n",
      "2. **Artistic Realms: Create and Collaborate in 3D Art Spaces**\n",
      "   - **Overview:** A VR app that enables users to create artwork in a fully immersive 3D environment. Whether users are painters, sculptors, or digital artists, they can express their creativity freely in a virtual studio.\n",
      "   - **Features:**\n",
      "     - 3D Painting and Sculpting Tools: A variety of brushes, colors, and materials to craft unique artistic works in three dimensions.\n",
      "     - Collaborative Projects: Users can invite friends to join in real time to create collaborative artworks or participate in challenges and exhibitions.\n",
      "     - Virtual Exhibitions: Showcase completed artworks in a virtual gallery space where other users can explore and appreciate different creations.\n",
      "     - Tutorials and Workshops: Access to guided sessions from professional artists and instructors to learn new techniques and skills.\n",
      "\n",
      "3. **Beyond the Books: Interactive Historical Experiences**\n",
      "   - **Overview:** An educational VR app that transports users to significant historical events or periods, allowing them to experience history firsthand. This app provides an immersive way to learn about different cultures, important dates, and historical figures.\n",
      "   - **Features:**\n",
      "     - Time Travel Adventures: Users can choose different historical settings, such as Ancient Rome, the Renaissance, or the American Revolution, and interact with significant figures.\n",
      "     - Role-Playing Scenarios: Engage in key events, making decisions that could affect outcomes and understanding historical context.\n",
      "     - Interactive Learning: As users explore, they can unlock information, artifacts, and multimedia content about the era.\n",
      "     - Classroom Integration: A version for educators that allows them to create lesson plans and guided tours within the app for group learning experiences.\n",
      "\n",
      "These VR app ideas leverage the technology's immersive capabilities to create engaging experiences that are both entertaining and educational!\n",
      "---------- TextMessage (UserAgent) ----------\n",
      "APPROVE\n"
     ]
    },
    {
     "data": {
      "text/plain": [
       "TaskResult(messages=[TextMessage(source='user', models_usage=None, metadata={}, created_at=datetime.datetime(2025, 6, 12, 21, 8, 39, 801265, tzinfo=datetime.timezone.utc), content='Suggest Three Creative Ideas for a Mobile App!', type='TextMessage'), TextMessage(source='AssistantAgent', models_usage=RequestUsage(prompt_tokens=27, completion_tokens=506), metadata={}, created_at=datetime.datetime(2025, 6, 12, 21, 8, 47, 937308, tzinfo=datetime.timezone.utc), content='Sure! Here are three creative ideas for mobile apps:\\n\\n1. **Mindful Moments: Daily Mini Meditations**\\n   - **Overview:** An app that offers users short, guided meditation sessions tailored for different times of the day. Each session is under five minutes, perfect for busy schedules, and incorporates elements of mindfulness, breathing exercises, and positive affirmations.\\n   - **Features:**\\n     - Personalization: Users can select their mood, time availability, or specific goals (like stress relief, focus enhancement, etc.) to get customized meditation clips.\\n     - Daily Reminders: Notifications to encourage users to take a \"Mindful Moment\" during their day.\\n     - Integrations: Sync with calendars to suggest meditation times based on user schedules.\\n     - Community Sharing: Users can share their experiences and favorite meditations with a community of like-minded individuals.\\n\\n2. **PlantPal: Your Personal Plant Care Assistant**\\n   - **Overview:** An app designed for plant parents to help them care for their houseplants. By simply taking a photo of their plants, users can receive personalized care instructions, including watering schedules, light requirements, and fertilization tips.\\n   - **Features:**\\n     - Plant Identification: Use image recognition to identify various types of plants and provide tailored care tips.\\n     - Care Reminders: Set reminders for watering, fertilizing, and repotting based on the plant’s needs.\\n     - Growth Tracking: Users can log their plant’s growth with photos and updates to track progress over time.\\n     - Community Forum: A space for plant enthusiasts to ask questions, share tips, and showcase their plants.\\n\\n3. **Culinary Quest: Family Cooking Adventure**\\n   - **Overview:** An interactive cooking app aimed at families that turns cooking together into a fun adventure game. Each recipe is a quest where users complete tasks to unlock new dishes and earn points or rewards.\\n   - **Features:**\\n     - Quest System: Each recipe has a storyline and tasks (e.g., prep, cook, clean) that families need to complete together.\\n     - Cooking Levels: Users can level up and unlock more challenging recipes as they gain experience points.\\n     - Family Challenges: Engage in cooking challenges with other families, compete for the best dish, or share unique culinary creations.\\n     - DIY Recipe Creation: Users can create their own recipes and share them with the community, complete with a quest-like interface.\\n\\nThese app ideas blend practicality with creativity, encouraging user engagement and community-building around their respective themes!', type='TextMessage'), UserInputRequestedEvent(source='UserAgent', models_usage=None, metadata={}, created_at=datetime.datetime(2025, 6, 12, 21, 8, 47, 941803, tzinfo=datetime.timezone.utc), request_id='8017cf78-e731-4a5a-abf2-8a9dddee4c2b', content='', type='UserInputRequestedEvent'), TextMessage(source='UserAgent', models_usage=None, metadata={}, created_at=datetime.datetime(2025, 6, 12, 21, 9, 16, 259238, tzinfo=datetime.timezone.utc), content='in the same way, can you suggest me for three creative ideas for VR app', type='TextMessage'), TextMessage(source='AssistantAgent', models_usage=RequestUsage(prompt_tokens=559, completion_tokens=543), metadata={}, created_at=datetime.datetime(2025, 6, 12, 21, 9, 21, 157443, tzinfo=datetime.timezone.utc), content=\"Absolutely! Here are three creative ideas for virtual reality (VR) apps:\\n\\n1. **Virtual Nature Escape: Immersive Outdoor Retreat**\\n   - **Overview:** An app that allows users to experience stunning natural environments from the comfort of their home. Users can take virtual hikes, visit serene beaches, or explore majestic mountains, all while enjoying immersive sights and sounds of nature.\\n   - **Features:**\\n     - Multiple Locations: A library of diverse environments, such as rainforests, deserts, and snowy landscapes, each with realistic weather and time-of-day effects.\\n     - Guided Meditation: Integrated mindfulness sessions set in various nature scenes to promote relaxation and stress relief.\\n     - Interactive Wildlife: Users can encounter and learn about virtual wildlife, enhancing their experience through educational content.\\n     - Personal Journal: A space for users to document their experiences, thoughts, and feelings after each session, encouraging mindfulness and reflection.\\n\\n2. **Artistic Realms: Create and Collaborate in 3D Art Spaces**\\n   - **Overview:** A VR app that enables users to create artwork in a fully immersive 3D environment. Whether users are painters, sculptors, or digital artists, they can express their creativity freely in a virtual studio.\\n   - **Features:**\\n     - 3D Painting and Sculpting Tools: A variety of brushes, colors, and materials to craft unique artistic works in three dimensions.\\n     - Collaborative Projects: Users can invite friends to join in real time to create collaborative artworks or participate in challenges and exhibitions.\\n     - Virtual Exhibitions: Showcase completed artworks in a virtual gallery space where other users can explore and appreciate different creations.\\n     - Tutorials and Workshops: Access to guided sessions from professional artists and instructors to learn new techniques and skills.\\n\\n3. **Beyond the Books: Interactive Historical Experiences**\\n   - **Overview:** An educational VR app that transports users to significant historical events or periods, allowing them to experience history firsthand. This app provides an immersive way to learn about different cultures, important dates, and historical figures.\\n   - **Features:**\\n     - Time Travel Adventures: Users can choose different historical settings, such as Ancient Rome, the Renaissance, or the American Revolution, and interact with significant figures.\\n     - Role-Playing Scenarios: Engage in key events, making decisions that could affect outcomes and understanding historical context.\\n     - Interactive Learning: As users explore, they can unlock information, artifacts, and multimedia content about the era.\\n     - Classroom Integration: A version for educators that allows them to create lesson plans and guided tours within the app for group learning experiences.\\n\\nThese VR app ideas leverage the technology's immersive capabilities to create engaging experiences that are both entertaining and educational!\", type='TextMessage'), UserInputRequestedEvent(source='UserAgent', models_usage=None, metadata={}, created_at=datetime.datetime(2025, 6, 12, 21, 9, 21, 159670, tzinfo=datetime.timezone.utc), request_id='114809c5-f4df-46d0-9f2b-86eb35a99543', content='', type='UserInputRequestedEvent'), TextMessage(source='UserAgent', models_usage=None, metadata={}, created_at=datetime.datetime(2025, 6, 12, 21, 9, 30, 183528, tzinfo=datetime.timezone.utc), content='APPROVE', type='TextMessage')], stop_reason=\"Text 'APPROVE' mentioned, Maximum number of messages 5 reached, current message count: 5\")"
      ]
     },
     "execution_count": 8,
     "metadata": {},
     "output_type": "execute_result"
    }
   ],
   "source": [
    "await Console(\n",
    "    team.run_stream(task=\"Suggest Three Creative Ideas for a Mobile App!\")\n",
    ")"
   ]
  }
 ],
 "metadata": {
  "kernelspec": {
   "display_name": ".venv",
   "language": "python",
   "name": "python3"
  },
  "language_info": {
   "codemirror_mode": {
    "name": "ipython",
    "version": 3
   },
   "file_extension": ".py",
   "mimetype": "text/x-python",
   "name": "python",
   "nbconvert_exporter": "python",
   "pygments_lexer": "ipython3",
   "version": "3.13.3"
  }
 },
 "nbformat": 4,
 "nbformat_minor": 5
}
