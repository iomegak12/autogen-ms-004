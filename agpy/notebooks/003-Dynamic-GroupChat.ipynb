{
 "cells": [
  {
   "cell_type": "markdown",
   "id": "4a0d93b2",
   "metadata": {},
   "source": [
    "#### Dynamic Group Chat - Selecting Agents Dynamically using LLM"
   ]
  },
  {
   "cell_type": "code",
   "execution_count": 1,
   "id": "31036728",
   "metadata": {},
   "outputs": [],
   "source": [
    "from autogen_agentchat.agents import AssistantAgent, UserProxyAgent\n",
    "from autogen_agentchat.conditions import TextMentionTermination, MaxMessageTermination\n",
    "from autogen_agentchat.teams import SelectorGroupChat\n",
    "from autogen_agentchat.ui import Console\n",
    "from autogen_agentchat.messages import AgentEvent, ChatMessage\n",
    "from autogen_ext.models.openai import AzureOpenAIChatCompletionClient\n",
    "from autogen_agentchat.base import TaskResult\n",
    "\n",
    "import os\n",
    "\n",
    "from dotenv import load_dotenv"
   ]
  },
  {
   "cell_type": "code",
   "execution_count": null,
   "id": "e240073a",
   "metadata": {},
   "outputs": [],
   "source": [
    "load_dotenv(override=True)\n",
    "\n",
    "azure_openai_api_key = os.getenv(\"AZURE_OPENAI_API_KEY\")\n",
    "azure_openai_endpoint = os.getenv(\"AZURE_OPENAI_ENDPOINT\")\n",
    "azure_openai_deployment_name = os.getenv(\"AZURE_OPENAI_DEPLOYMENT_NAME\")\n",
    "azure_openai_api_version = os.getenv(\"AZURE_OPENAI_API_VERSION\")\n",
    "\n",
    "if not all([azure_openai_api_key, azure_openai_endpoint, azure_openai_deployment_name, azure_openai_api_version]):\n",
    "    raise ValueError(\"\"\"\n",
    "        Please set all required environment variables: \n",
    "            AZURE_OPENAI_API_KEY, \n",
    "            AZURE_OPENAI_ENDPOINT, \n",
    "            AZURE_OPENAI_DEPLOYMENT_NAME, \n",
    "            AZURE_OPENAI_API_VERSION\n",
    "        \"\"\")\n"
   ]
  },
  {
   "cell_type": "code",
   "execution_count": 3,
   "id": "c002a095",
   "metadata": {},
   "outputs": [],
   "source": [
    "model_client = AzureOpenAIChatCompletionClient(\n",
    "    azure_deployment=azure_openai_deployment_name,\n",
    "    model=azure_openai_deployment_name,\n",
    "    api_key=azure_openai_api_key,\n",
    "    azure_endpoint=azure_openai_endpoint,\n",
    "    api_version=azure_openai_api_version,\n",
    ")"
   ]
  },
  {
   "cell_type": "code",
   "execution_count": 4,
   "id": "aa29258d",
   "metadata": {},
   "outputs": [],
   "source": [
    "def weather_check_tool(location: str) -> str:\n",
    "    weather_data = {\n",
    "        \"New York\": \"Sunny, 25°C\",\n",
    "        \"Los Angeles\": \"Cloudy, 22°C\",\n",
    "        \"Chicago\": \"Rainy, 18°C\",\n",
    "        \"London\": \"Windy, 15°C\",\n",
    "        \"Tokyo\": \"Clear, 28°C\",\n",
    "        \"Sydney\": \"Sunny, 30°C\",\n",
    "        \"Berlin\": \"Overcast, 20°C\",\n",
    "        \"Paris\": \"Partly cloudy, 23°C\",\n",
    "        \"Moscow\": \"Snowy, -5°C\",\n",
    "    }\n",
    "\n",
    "    return weather_data.get(location, \"Weather data not available for this location.\")\n",
    "\n",
    "\n",
    "def currency_exchange_tool(amount: float, from_currency: str, to_currency: str) -> str:\n",
    "    exchange_rates = {\n",
    "        \"USD\": {\"EUR\": 0.85, \"JPY\": 110.0, \"GBP\": 0.75},\n",
    "        \"EUR\": {\"USD\": 1.18, \"JPY\": 130.0, \"GBP\": 0.88},\n",
    "        \"JPY\": {\"USD\": 0.0091, \"EUR\": 0.0077, \"GBP\": 0.0066},\n",
    "        \"GBP\": {\"USD\": 1.33, \"EUR\": 1.14, \"JPY\": 150.0},\n",
    "        \"AUD\": {\"USD\": 0.74, \"EUR\": 0.63, \"JPY\": 82.0},\n",
    "        \"CAD\": {\"USD\": 0.79, \"EUR\": 0.67, \"JPY\": 88.0},\n",
    "        \"CHF\": {\"USD\": 1.09, \"EUR\": 0.93, \"JPY\": 120.0},\n",
    "        \"CNY\": {\"USD\": 0.15, \"EUR\": 0.13, \"JPY\": 18.0},\n",
    "    }\n",
    "\n",
    "    if from_currency in exchange_rates and to_currency in exchange_rates[from_currency]:\n",
    "        converted_amount = amount * exchange_rates[from_currency][to_currency]\n",
    "        return f\"{amount} {from_currency} is approximately {converted_amount:.2f} {to_currency}.\"\n",
    "    else:\n",
    "        return \"Currency conversion not available for the specified currencies.\""
   ]
  },
  {
   "cell_type": "code",
   "execution_count": 5,
   "id": "9d35a984",
   "metadata": {},
   "outputs": [],
   "source": [
    "planning_system_prompt = \"\"\"\n",
    "        You are a planning agent.\n",
    "        Your Job is to break down complex tasks into smaller and managable subtasks.\n",
    "        Your Team Members are:\n",
    "        - WeatherAgent: Provides weather information for specified locations.\n",
    "        - CurrencyAgent: Provides currency exchange rates and conversions.\n",
    "        \n",
    "        You shall only plan and delegate tasks to your team members.\n",
    "        You will not execute any tasks yourself.\n",
    "        \n",
    "        After all tasks are complete, summarize the results in a single message, and end with 'TERMINATE'.\n",
    "        \n",
    "        When assigning tasks, use this format.\n",
    "        1. <agent_name>: <task_description>\n",
    "        \n",
    "        For example:\n",
    "        1. WeatherAgent: Get the weather for New York.\n",
    "\"\"\"\n",
    "\n",
    "planning_agent = AssistantAgent(\n",
    "    name=\"PlanningAgent\",\n",
    "    model_client=model_client,\n",
    "    system_message=planning_system_prompt,\n",
    "    description=\"An agent that plans tasks based on user requests and available tools.\",\n",
    ")\n",
    "\n",
    "weather_agent = AssistantAgent(\n",
    "    name=\"WeatherAgent\",\n",
    "    model_client=model_client,\n",
    "    system_message=\"You are a weather information agent. Provide weather details for specified locations.\",\n",
    "    description=\"An agent that provides weather information for specified locations.\",\n",
    "    tools=[weather_check_tool],\n",
    ")\n",
    "\n",
    "currency_agent = AssistantAgent(\n",
    "    name=\"CurrencyAgent\",\n",
    "    model_client=model_client,\n",
    "    system_message=\"You are a currency exchange agent. Provide currency conversion rates and calculations.\",\n",
    "    description=\"An agent that provides currency exchange rates and conversions.\",\n",
    "    tools=[currency_exchange_tool],\n",
    ")"
   ]
  },
  {
   "cell_type": "code",
   "execution_count": 7,
   "id": "34c7212b",
   "metadata": {},
   "outputs": [],
   "source": [
    "from typing import Sequence\n",
    "\n",
    "\n",
    "def custom_selector_func(messages: Sequence[AgentEvent | ChatMessage]) -> str:\n",
    "    if messages[-1].source != planning_agent.name:\n",
    "        return planning_agent.name\n",
    "\n",
    "    return None"
   ]
  },
  {
   "cell_type": "code",
   "execution_count": 8,
   "id": "cd8af673",
   "metadata": {},
   "outputs": [],
   "source": [
    "text_mention_termination = TextMentionTermination(\"TERMINATE\")\n",
    "max_message_termination = MaxMessageTermination(10)\n",
    "combined_termination = text_mention_termination | max_message_termination\n",
    "\n",
    "customer_service_team = SelectorGroupChat(\n",
    "    [planning_agent, weather_agent, currency_agent],\n",
    "    selector_func = custom_selector_func,\n",
    "    termination_condition=combined_termination,\n",
    "    model_client=model_client,\n",
    ")"
   ]
  },
  {
   "cell_type": "code",
   "execution_count": 9,
   "id": "4dadeb0f",
   "metadata": {},
   "outputs": [
    {
     "name": "stdout",
     "output_type": "stream",
     "text": [
      "---------- TextMessage (user) ----------\n",
      "How much is 100 USD in EUR? and What's the weather in New York and \n",
      "---------- TextMessage (PlanningAgent) ----------\n",
      "1. CurrencyAgent: Convert 100 USD to EUR.\n",
      "2. WeatherAgent: Get the weather for New York.\n",
      "---------- ToolCallRequestEvent (CurrencyAgent) ----------\n",
      "[FunctionCall(id='call_SfzfbQzGIeAuW4PIl6W5RNAt', arguments='{\"amount\": 100, \"from_currency\": \"USD\", \"to_currency\": \"EUR\"}', name='currency_exchange_tool'), FunctionCall(id='call_ZtWz7weP55Rmega1ADWvA2t5', arguments='{\"amount\": 100, \"from_currency\": \"USD\", \"to_currency\": \"EUR\"}', name='currency_exchange_tool')]\n",
      "---------- ToolCallExecutionEvent (CurrencyAgent) ----------\n",
      "[FunctionExecutionResult(content='100.0 USD is approximately 85.00 EUR.', name='currency_exchange_tool', call_id='call_SfzfbQzGIeAuW4PIl6W5RNAt', is_error=False), FunctionExecutionResult(content='100.0 USD is approximately 85.00 EUR.', name='currency_exchange_tool', call_id='call_ZtWz7weP55Rmega1ADWvA2t5', is_error=False)]\n",
      "---------- ToolCallSummaryMessage (CurrencyAgent) ----------\n",
      "100.0 USD is approximately 85.00 EUR.\n",
      "100.0 USD is approximately 85.00 EUR.\n",
      "---------- TextMessage (PlanningAgent) ----------\n",
      "1. WeatherAgent: Get the weather for New York.\n",
      "---------- ToolCallRequestEvent (WeatherAgent) ----------\n",
      "[FunctionCall(id='call_3GJj1v19cYg4OoqqPpo4pflt', arguments='{\"location\":\"New York\"}', name='weather_check_tool')]\n",
      "---------- ToolCallExecutionEvent (WeatherAgent) ----------\n",
      "[FunctionExecutionResult(content='Sunny, 25°C', name='weather_check_tool', call_id='call_3GJj1v19cYg4OoqqPpo4pflt', is_error=False)]\n",
      "---------- ToolCallSummaryMessage (WeatherAgent) ----------\n",
      "Sunny, 25°C\n",
      "---------- TextMessage (PlanningAgent) ----------\n",
      "The currency conversion shows that 100 USD is approximately 85.00 EUR. The weather in New York is sunny with a temperature of 25°C. \n",
      "\n",
      "TERMINATE\n"
     ]
    },
    {
     "data": {
      "text/plain": [
       "TaskResult(messages=[TextMessage(source='user', models_usage=None, metadata={}, created_at=datetime.datetime(2025, 6, 12, 21, 32, 10, 13537, tzinfo=datetime.timezone.utc), content=\"How much is 100 USD in EUR? and What's the weather in New York and \", type='TextMessage'), TextMessage(source='PlanningAgent', models_usage=RequestUsage(prompt_tokens=170, completion_tokens=25), metadata={}, created_at=datetime.datetime(2025, 6, 12, 21, 32, 12, 191542, tzinfo=datetime.timezone.utc), content='1. CurrencyAgent: Convert 100 USD to EUR.\\n2. WeatherAgent: Get the weather for New York.', type='TextMessage'), ToolCallRequestEvent(source='CurrencyAgent', models_usage=RequestUsage(prompt_tokens=132, completion_tokens=67), metadata={}, created_at=datetime.datetime(2025, 6, 12, 21, 32, 14, 243871, tzinfo=datetime.timezone.utc), content=[FunctionCall(id='call_SfzfbQzGIeAuW4PIl6W5RNAt', arguments='{\"amount\": 100, \"from_currency\": \"USD\", \"to_currency\": \"EUR\"}', name='currency_exchange_tool'), FunctionCall(id='call_ZtWz7weP55Rmega1ADWvA2t5', arguments='{\"amount\": 100, \"from_currency\": \"USD\", \"to_currency\": \"EUR\"}', name='currency_exchange_tool')], type='ToolCallRequestEvent'), ToolCallExecutionEvent(source='CurrencyAgent', models_usage=None, metadata={}, created_at=datetime.datetime(2025, 6, 12, 21, 32, 14, 248059, tzinfo=datetime.timezone.utc), content=[FunctionExecutionResult(content='100.0 USD is approximately 85.00 EUR.', name='currency_exchange_tool', call_id='call_SfzfbQzGIeAuW4PIl6W5RNAt', is_error=False), FunctionExecutionResult(content='100.0 USD is approximately 85.00 EUR.', name='currency_exchange_tool', call_id='call_ZtWz7weP55Rmega1ADWvA2t5', is_error=False)], type='ToolCallExecutionEvent'), ToolCallSummaryMessage(source='CurrencyAgent', models_usage=None, metadata={}, created_at=datetime.datetime(2025, 6, 12, 21, 32, 14, 248320, tzinfo=datetime.timezone.utc), content='100.0 USD is approximately 85.00 EUR.\\n100.0 USD is approximately 85.00 EUR.', type='ToolCallSummaryMessage', tool_calls=[FunctionCall(id='call_SfzfbQzGIeAuW4PIl6W5RNAt', arguments='{\"amount\": 100, \"from_currency\": \"USD\", \"to_currency\": \"EUR\"}', name='currency_exchange_tool'), FunctionCall(id='call_ZtWz7weP55Rmega1ADWvA2t5', arguments='{\"amount\": 100, \"from_currency\": \"USD\", \"to_currency\": \"EUR\"}', name='currency_exchange_tool')], results=[FunctionExecutionResult(content='100.0 USD is approximately 85.00 EUR.', name='currency_exchange_tool', call_id='call_SfzfbQzGIeAuW4PIl6W5RNAt', is_error=False), FunctionExecutionResult(content='100.0 USD is approximately 85.00 EUR.', name='currency_exchange_tool', call_id='call_ZtWz7weP55Rmega1ADWvA2t5', is_error=False)]), TextMessage(source='PlanningAgent', models_usage=RequestUsage(prompt_tokens=229, completion_tokens=13), metadata={}, created_at=datetime.datetime(2025, 6, 12, 21, 32, 14, 919272, tzinfo=datetime.timezone.utc), content='1. WeatherAgent: Get the weather for New York.', type='TextMessage'), ToolCallRequestEvent(source='WeatherAgent', models_usage=RequestUsage(prompt_tokens=158, completion_tokens=17), metadata={}, created_at=datetime.datetime(2025, 6, 12, 21, 32, 16, 452561, tzinfo=datetime.timezone.utc), content=[FunctionCall(id='call_3GJj1v19cYg4OoqqPpo4pflt', arguments='{\"location\":\"New York\"}', name='weather_check_tool')], type='ToolCallRequestEvent'), ToolCallExecutionEvent(source='WeatherAgent', models_usage=None, metadata={}, created_at=datetime.datetime(2025, 6, 12, 21, 32, 16, 454299, tzinfo=datetime.timezone.utc), content=[FunctionExecutionResult(content='Sunny, 25°C', name='weather_check_tool', call_id='call_3GJj1v19cYg4OoqqPpo4pflt', is_error=False)], type='ToolCallExecutionEvent'), ToolCallSummaryMessage(source='WeatherAgent', models_usage=None, metadata={}, created_at=datetime.datetime(2025, 6, 12, 21, 32, 16, 454663, tzinfo=datetime.timezone.utc), content='Sunny, 25°C', type='ToolCallSummaryMessage', tool_calls=[FunctionCall(id='call_3GJj1v19cYg4OoqqPpo4pflt', arguments='{\"location\":\"New York\"}', name='weather_check_tool')], results=[FunctionExecutionResult(content='Sunny, 25°C', name='weather_check_tool', call_id='call_3GJj1v19cYg4OoqqPpo4pflt', is_error=False)]), TextMessage(source='PlanningAgent', models_usage=RequestUsage(prompt_tokens=257, completion_tokens=36), metadata={}, created_at=datetime.datetime(2025, 6, 12, 21, 32, 17, 645672, tzinfo=datetime.timezone.utc), content='The currency conversion shows that 100 USD is approximately 85.00 EUR. The weather in New York is sunny with a temperature of 25°C. \\n\\nTERMINATE', type='TextMessage')], stop_reason=\"Text 'TERMINATE' mentioned\")"
      ]
     },
     "execution_count": 9,
     "metadata": {},
     "output_type": "execute_result"
    }
   ],
   "source": [
    "task = \"How much is 100 USD in EUR? and What's the weather in New York and \"\n",
    "\n",
    "await Console(\n",
    "    customer_service_team.run_stream(task=task))"
   ]
  }
 ],
 "metadata": {
  "kernelspec": {
   "display_name": ".venv",
   "language": "python",
   "name": "python3"
  },
  "language_info": {
   "codemirror_mode": {
    "name": "ipython",
    "version": 3
   },
   "file_extension": ".py",
   "mimetype": "text/x-python",
   "name": "python",
   "nbconvert_exporter": "python",
   "pygments_lexer": "ipython3",
   "version": "3.13.3"
  }
 },
 "nbformat": 4,
 "nbformat_minor": 5
}
